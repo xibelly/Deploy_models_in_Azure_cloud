{
  "cells": [
    {
      "metadata": {},
      "cell_type": "markdown",
      "source": "# Connect to your workspace"
    },
    {
      "metadata": {
        "trusted": true
      },
      "cell_type": "code",
      "source": "from azureml.core import Workspace, Experiment, Run\n\nws = Workspace.get(name='',\n            subscription_id='', \n            resource_group='')\nprint(ws)",
      "execution_count": 10,
      "outputs": []
    },
    {
      "metadata": {},
      "cell_type": "markdown",
      "source": "For input data, you will use a dataset built into Python's sklearn.datasets module that contains some sample diabetes data. The columns include age, sex, body mass index, average blood pressure, and six blood serum measurements on 442 diabetes patients, as well a quantitative measure of disease progression. We want to build a model that can predict the disease progression after one year based given the same input variables."
    },
    {
      "metadata": {
        "trusted": true
      },
      "cell_type": "code",
      "source": "# Load the diabetes dataset, a well-known built-in small dataset that comes with scikit-learn.\nfrom sklearn.datasets import load_diabetes\nfrom sklearn.model_selection import train_test_split\n\nX, y = load_diabetes(return_X_y = True)\n\nX_train, X_test, y_train, y_test = train_test_split(X, y, test_size = 0.2, random_state = 0)\n\nprint('Done')",
      "execution_count": 2,
      "outputs": [
        {
          "output_type": "stream",
          "text": "Done\n",
          "name": "stdout"
        }
      ]
    },
    {
      "metadata": {},
      "cell_type": "markdown",
      "source": "Now, you'll create an experiment in this workspace by using the following code:"
    },
    {
      "metadata": {
        "trusted": true
      },
      "cell_type": "code",
      "source": "from azureml.core.experiment import Experiment\n\nexperiment = Experiment(workspace = ws, name = \"my-third-experiment\")\n\nprint('Done')",
      "execution_count": 3,
      "outputs": [
        {
          "output_type": "stream",
          "text": "Done\n",
          "name": "stdout"
        }
      ]
    },
    {
      "metadata": {},
      "cell_type": "markdown",
      "source": "# Define the machine learning objective and constraints\nThe first step is to define the machine learning objective by using AutoMLConfig, as illustrated in the following code:"
    },
    {
      "metadata": {
        "trusted": true
      },
      "cell_type": "code",
      "source": "from azureml.core.experiment import Experiment\nfrom azureml.core.workspace import Workspace\nfrom azureml.train.automl import AutoMLConfig\nimport logging\n\nautoml_config = AutoMLConfig(task = 'regression',\n                  iteration_timeout_minutes = 10,\n                  iterations = 3,\n                  primary_metric = 'spearman_correlation',\n                  n_cross_validations = 5,\n                  debug_log = 'automl.log',\n                  verbosity = logging.INFO,\n                  X = X_train, \n                  y = y_train)\n\nprint('Done')",
      "execution_count": 4,
      "outputs": [
        {
          "output_type": "stream",
          "text": "WARNING - The AutoMLConfig inputs you have specified will soon be deprecated. Please use the AutoMLConfig shown in our documentation: https://aka.ms/AutoMLConfig\n",
          "name": "stderr"
        },
        {
          "output_type": "stream",
          "text": "Done\n",
          "name": "stdout"
        }
      ]
    },
    {
      "metadata": {},
      "cell_type": "markdown",
      "source": "#task: This is the type of model that is required, such as classification, regression, or forecasting. After you specify the type, AutoML will automatically pick the best algorithm of that type for you\n\n#primary_metric: This is the metric that you want AutoML to optimize. In the regression example are several metrics: normalized_root_mean_squared_error, r2_score, normalized_mean_absolute_error, and spearman_correlation. In this example, the Spearman correlation was the primary metric, which basically measures the similarity of two datasets. For more information about how these metrics work, refer to the documentation.\n\n#iterations_time_out_minutes: Iterations is how many model pipeline executions you want to use and the time limit for each iteration.\n\n#n_cross_validations: This is the number of cross-validation splits."
    },
    {
      "metadata": {},
      "cell_type": "markdown",
      "source": "After the objective and the constraints are defined, you can start the AutoML job as illustrated in the following code:\n\n"
    },
    {
      "metadata": {
        "trusted": true
      },
      "cell_type": "code",
      "source": "local_run = experiment.submit(automl_config, show_output = True)",
      "execution_count": 5,
      "outputs": [
        {
          "output_type": "stream",
          "text": "Running on local machine\nParent Run ID: AutoML_58f4203d-036a-4a63-8b0e-c5013275f9ad\nCurrent status: DatasetCrossValidationSplit. Generating CV splits.\nCurrent status: ModelSelection. Beginning model selection.\n\n****************************************************************************************************\nITERATION: The iteration being evaluated.\nPIPELINE: A summary description of the pipeline being evaluated.\nDURATION: Time taken for the current iteration.\nMETRIC: The result of computing score on the fitted pipeline.\nBEST: The best observed score thus far.\n****************************************************************************************************\n\n ITERATION   PIPELINE                                       DURATION      METRIC      BEST\n         0   StandardScalerWrapper RandomForest             0:03:31       0.6987    0.6987\n         1   MinMaxScaler RandomForest                      0:01:39       0.6689    0.6987\n         2   StandardScalerWrapper ExtremeRandomTrees       0:01:32       0.6959    0.6987\n",
          "name": "stdout"
        }
      ]
    },
    {
      "metadata": {},
      "cell_type": "markdown",
      "source": "Azure Machine Learning has a widget to display the information for each run. By using the code below, you can compare the best model across different iterations:"
    },
    {
      "metadata": {
        "trusted": true
      },
      "cell_type": "code",
      "source": "from azureml.widgets import RunDetails\nRunDetails(local_run).show()",
      "execution_count": 6,
      "outputs": [
        {
          "output_type": "display_data",
          "data": {
            "application/vnd.jupyter.widget-view+json": {
              "model_id": "5bf7219b07d648398a01bc4c7b058c29",
              "version_minor": 0,
              "version_major": 2
            },
            "text/plain": "_AutoMLWidget(widget_settings={'childWidgetDisplay': 'popup', 'send_telemetry': False, 'log_level': 'INFO', 's…"
          },
          "metadata": {}
        },
        {
          "output_type": "display_data",
          "data": {
            "application/aml.mini.widget.v1": "{\"status\": \"Completed\", \"workbench_run_details_uri\": \"https://ml.azure.com/experiments/my-third-experiment/runs/AutoML_58f4203d-036a-4a63-8b0e-c5013275f9ad?wsid=/subscriptions/83b057f2-5b13-476b-97e7-8da4927e2f61/resourcegroups/entrenamiento-idata/workspaces/AMLSWorkspace\", \"run_id\": \"AutoML_58f4203d-036a-4a63-8b0e-c5013275f9ad\", \"run_properties\": {\"run_id\": \"AutoML_58f4203d-036a-4a63-8b0e-c5013275f9ad\", \"created_utc\": \"2019-11-21T16:59:31.727883Z\", \"properties\": {\"num_iterations\": \"3\", \"training_type\": \"TrainFull\", \"acquisition_function\": \"EI\", \"primary_metric\": \"spearman_correlation\", \"train_split\": \"0\", \"MaxTimeSeconds\": \"600\", \"acquisition_parameter\": \"0\", \"num_cross_validation\": \"5\", \"target\": \"local\", \"RawAMLSettingsString\": \"{'name': 'my-third-experiment', 'path': '.', 'subscription_id': '83b057f2-5b13-476b-97e7-8da4927e2f61', 'resource_group': 'entrenamiento-idata', 'workspace_name': 'AMLSWorkspace', 'region': 'eastus2', 'compute_target': 'local', 'spark_service': None, 'azure_service': None, 'iterations': 3, 'primary_metric': 'spearman_correlation', 'task_type': 'regression', 'data_script': None, 'validation_size': 0.0, 'n_cross_validations': 5, 'y_min': 25.0, 'y_max': 346.0, 'num_classes': None, 'featurization': 'off', 'preprocess': False, 'lag_length': 0, 'is_timeseries': False, 'max_cores_per_iteration': 1, 'max_concurrent_iterations': 1, 'iteration_timeout_minutes': 10, 'mem_in_mb': None, 'enforce_time_on_windows': False, 'experiment_timeout_minutes': None, 'experiment_exit_score': None, 'whitelist_models': None, 'blacklist_algos': ['XGBoostRegressor', 'Prophet'], 'supported_models': ['ElasticNet', 'GradientBoosting', 'DecisionTree', 'KNN', 'LassoLars', 'SGD', 'RandomForest', 'ExtremeRandomTrees', 'LightGBM', 'XGBoostRegressor', 'FastLinearRegressor', 'OnlineGradientDescentRegressor', 'TensorFlowLinearRegressor', 'TensorFlowDNN'], 'auto_blacklist': True, 'blacklist_samples_reached': False, 'exclude_nan_labels': True, 'verbosity': 20, 'debug_log': 'automl.log', 'show_warnings': False, 'model_explainability': False, 'service_url': None, 'sdk_url': None, 'sdk_packages': None, 'enable_onnx_compatible_models': False, 'enable_split_onnx_featurizer_estimator_models': False, 'vm_type': None, 'telemetry_verbosity': 'INFO', 'send_telemetry': True, 'enable_dnn': False, 'enable_feature_sweeping': True, 'enable_early_stopping': False, 'early_stopping_n_iters': 10, 'metrics': None, 'enable_ensembling': False, 'enable_stack_ensembling': False, 'ensemble_iterations': None, 'enable_tf': False, 'enable_cache': True, 'enable_subsampling': False, 'subsample_seed': None, 'enable_nimbusml': False, 'enable_streaming': False, 'label_column_name': None, 'weight_column_name': None, 'cost_mode': 0, 'metric_operation': 'maximize'}\", \"AMLSettingsJsonString\": \"{\\\"name\\\":\\\"my-third-experiment\\\",\\\"path\\\":\\\".\\\",\\\"subscription_id\\\":\\\"83b057f2-5b13-476b-97e7-8da4927e2f61\\\",\\\"resource_group\\\":\\\"entrenamiento-idata\\\",\\\"workspace_name\\\":\\\"AMLSWorkspace\\\",\\\"region\\\":\\\"eastus2\\\",\\\"compute_target\\\":\\\"local\\\",\\\"spark_service\\\":null,\\\"azure_service\\\":null,\\\"iterations\\\":3,\\\"primary_metric\\\":\\\"spearman_correlation\\\",\\\"task_type\\\":\\\"regression\\\",\\\"data_script\\\":null,\\\"validation_size\\\":0.0,\\\"n_cross_validations\\\":5,\\\"y_min\\\":25.0,\\\"y_max\\\":346.0,\\\"num_classes\\\":null,\\\"featurization\\\":\\\"off\\\",\\\"preprocess\\\":false,\\\"lag_length\\\":0,\\\"is_timeseries\\\":false,\\\"max_cores_per_iteration\\\":1,\\\"max_concurrent_iterations\\\":1,\\\"iteration_timeout_minutes\\\":10,\\\"mem_in_mb\\\":null,\\\"enforce_time_on_windows\\\":false,\\\"experiment_timeout_minutes\\\":null,\\\"experiment_exit_score\\\":null,\\\"whitelist_models\\\":null,\\\"blacklist_algos\\\":[\\\"XGBoostRegressor\\\",\\\"Prophet\\\",\\\"AutoArima\\\"],\\\"supported_models\\\":[\\\"ElasticNet\\\",\\\"GradientBoosting\\\",\\\"DecisionTree\\\",\\\"KNN\\\",\\\"LassoLars\\\",\\\"SGD\\\",\\\"RandomForest\\\",\\\"ExtremeRandomTrees\\\",\\\"LightGBM\\\",\\\"XGBoostRegressor\\\",\\\"FastLinearRegressor\\\",\\\"OnlineGradientDescentRegressor\\\",\\\"TensorFlowLinearRegressor\\\",\\\"TensorFlowDNN\\\"],\\\"auto_blacklist\\\":true,\\\"blacklist_samples_reached\\\":false,\\\"exclude_nan_labels\\\":true,\\\"verbosity\\\":20,\\\"debug_log\\\":\\\"automl.log\\\",\\\"show_warnings\\\":false,\\\"model_explainability\\\":false,\\\"service_url\\\":null,\\\"sdk_url\\\":null,\\\"sdk_packages\\\":null,\\\"enable_onnx_compatible_models\\\":false,\\\"enable_split_onnx_featurizer_estimator_models\\\":false,\\\"vm_type\\\":null,\\\"telemetry_verbosity\\\":\\\"INFO\\\",\\\"send_telemetry\\\":true,\\\"enable_dnn\\\":false,\\\"enable_feature_sweeping\\\":true,\\\"enable_early_stopping\\\":false,\\\"early_stopping_n_iters\\\":10,\\\"metrics\\\":null,\\\"enable_ensembling\\\":false,\\\"enable_stack_ensembling\\\":false,\\\"ensemble_iterations\\\":null,\\\"enable_tf\\\":false,\\\"enable_cache\\\":true,\\\"enable_subsampling\\\":false,\\\"subsample_seed\\\":null,\\\"enable_nimbusml\\\":false,\\\"enable_streaming\\\":false,\\\"label_column_name\\\":null,\\\"weight_column_name\\\":null,\\\"cost_mode\\\":0,\\\"metric_operation\\\":\\\"maximize\\\"}\", \"DataPrepJsonString\": null, \"EnableSubsampling\": \"False\", \"runTemplate\": \"AutoML\", \"azureml.runsource\": \"automl\", \"display_task_type\": \"regression\", \"dependencies_versions\": \"{\\\"azureml-widgets\\\": \\\"1.0.72\\\", \\\"azureml-train\\\": \\\"1.0.72\\\", \\\"azureml-train-restclients-hyperdrive\\\": \\\"1.0.72\\\", \\\"azureml-train-core\\\": \\\"1.0.72\\\", \\\"azureml-train-automl\\\": \\\"1.0.72\\\", \\\"azureml-telemetry\\\": \\\"1.0.72\\\", \\\"azureml-sdk\\\": \\\"1.0.72\\\", \\\"azureml-pipeline\\\": \\\"1.0.72\\\", \\\"azureml-pipeline-steps\\\": \\\"1.0.72\\\", \\\"azureml-pipeline-core\\\": \\\"1.0.72\\\", \\\"azureml-opendatasets\\\": \\\"1.0.72.1\\\", \\\"azureml-model-management-sdk\\\": \\\"1.0.1b6.post1\\\", \\\"azureml-interpret\\\": \\\"1.0.72.1\\\", \\\"azureml-explain-model\\\": \\\"1.0.72\\\", \\\"azureml-defaults\\\": \\\"1.0.72\\\", \\\"azureml-dataprep\\\": \\\"1.1.30\\\", \\\"azureml-dataprep-native\\\": \\\"13.1.0\\\", \\\"azureml-core\\\": \\\"1.0.72\\\", \\\"azureml-contrib-notebook\\\": \\\"1.0.72\\\", \\\"azureml-automl-core\\\": \\\"1.0.72.1\\\"}\", \"ProblemInfoJsonString\": \"{\\\"dataset_num_categorical\\\": 0, \\\"is_sparse\\\": false, \\\"subsampling\\\": false, \\\"dataset_classes\\\": 194, \\\"dataset_features\\\": 10, \\\"dataset_samples\\\": 353, \\\"single_frequency_class_detected\\\": false}\"}, \"tags\": {\"model_explain_run\": \"best_run\", \"experiment_status\": \"ModelSelection\", \"experiment_status_descr\": \"Beginning model selection.\"}, \"end_time_utc\": \"2019-11-21T17:06:32.104076Z\", \"status\": \"Completed\", \"log_files\": {}, \"log_groups\": [], \"run_duration\": \"0:07:00\"}, \"child_runs\": [{\"run_id\": \"AutoML_58f4203d-036a-4a63-8b0e-c5013275f9ad_0\", \"run_number\": 2, \"metric\": null, \"status\": \"Completed\", \"run_type\": null, \"training_percent\": \"100\", \"start_time\": \"2019-11-21T16:59:48.34506Z\", \"end_time\": \"2019-11-21T17:03:12.98847Z\", \"created_time\": \"2019-11-21T16:59:47.98703Z\", \"created_time_dt\": \"2019-11-21T16:59:47.98703Z\", \"duration\": \"0:03:25\", \"iteration\": \"0\", \"goal\": \"spearman_correlation_max\", \"run_name\": \"StandardScalerWrapper, RandomForest\", \"run_properties\": \"bootstrap=False, criterion='mse', max_depth=None,\\n           max_features='sqrt', max_leaf_nodes=None,\\n           min_impurity_decrease=0.0, min_impurity_split=None,\\n           min_samples_leaf=0.05040306135985514,\\n           min_samples_split=0.002602463309528381,\\n           min_weight_fraction_leaf=0.0, n_estimators=25, n_jobs=1,\\n           oob_score=False, random_state=None, verbose=0, warm_start=False\", \"primary_metric\": 0.69866504, \"best_metric\": 0.69866504}, {\"run_id\": \"AutoML_58f4203d-036a-4a63-8b0e-c5013275f9ad_1\", \"run_number\": 3, \"metric\": null, \"status\": \"Completed\", \"run_type\": null, \"training_percent\": \"100\", \"start_time\": \"2019-11-21T17:03:21.470959Z\", \"end_time\": \"2019-11-21T17:04:55.838191Z\", \"created_time\": \"2019-11-21T17:03:20.628966Z\", \"created_time_dt\": \"2019-11-21T17:03:20.628966Z\", \"duration\": \"0:01:35\", \"iteration\": \"1\", \"goal\": \"spearman_correlation_max\", \"run_name\": \"MinMaxScaler, RandomForest\", \"run_properties\": \"bootstrap=True, criterion='mse', max_depth=None,\\n           max_features=0.9, max_leaf_nodes=None,\\n           min_impurity_decrease=0.0, min_impurity_split=None,\\n           min_samples_leaf=0.006151578686713196,\\n           min_samples_split=0.010734188827013528,\\n           min_weight_fraction_leaf=0.0, n_estimators=25, n_jobs=1,\\n           oob_score=False, random_state=None, verbose=0, warm_start=False\", \"primary_metric\": 0.66886873, \"best_metric\": 0.69866504}, {\"run_id\": \"AutoML_58f4203d-036a-4a63-8b0e-c5013275f9ad_2\", \"run_number\": 4, \"metric\": null, \"status\": \"Completed\", \"run_type\": null, \"training_percent\": \"100\", \"start_time\": \"2019-11-21T17:05:00.139471Z\", \"end_time\": \"2019-11-21T17:06:28.022464Z\", \"created_time\": \"2019-11-21T17:04:59.868181Z\", \"created_time_dt\": \"2019-11-21T17:04:59.868181Z\", \"duration\": \"0:01:28\", \"iteration\": \"2\", \"goal\": \"spearman_correlation_max\", \"run_name\": \"StandardScalerWrapper, ExtremeRandomTrees\", \"run_properties\": \"bootstrap=True, criterion='mse', max_depth=None,\\n          max_features=0.9, max_leaf_nodes=None, min_impurity_decrease=0.0,\\n          min_impurity_split=None, min_samples_leaf=0.0023646822772690063,\\n          min_samples_split=0.052853885930792446,\\n          min_weight_fraction_leaf=0.0, n_estimators=10, n_jobs=1,\\n          oob_score=False, random_state=None, verbose=0, warm_start=False\", \"primary_metric\": 0.69585517, \"best_metric\": 0.69866504}], \"children_metrics\": {\"categories\": [0], \"series\": {\"median_absolute_error\": [{\"categories\": [\"0\", \"1\", \"2\"], \"mode\": \"markers\", \"name\": \"median_absolute_error\", \"stepped\": false, \"type\": \"scatter\", \"data\": [43.02293037482271, 40.65377171717172, 40.06799806543272]}, {\"categories\": [\"0\", \"1\", \"2\"], \"mode\": \"lines\", \"name\": \"median_absolute_error_min\", \"stepped\": true, \"type\": \"scatter\", \"data\": [43.02293037482271, 40.65377171717172, 40.06799806543272]}], \"mean_absolute_error\": [{\"categories\": [\"0\", \"1\", \"2\"], \"mode\": \"markers\", \"name\": \"mean_absolute_error\", \"stepped\": false, \"type\": \"scatter\", \"data\": [45.900009840239974, 46.264599822949236, 45.45853631643389]}, {\"categories\": [\"0\", \"1\", \"2\"], \"mode\": \"lines\", \"name\": \"mean_absolute_error_min\", \"stepped\": true, \"type\": \"scatter\", \"data\": [45.900009840239974, 45.900009840239974, 45.45853631643389]}], \"mean_absolute_percentage_error\": [{\"categories\": [\"0\", \"1\", \"2\"], \"mode\": \"markers\", \"name\": \"mean_absolute_percentage_error\", \"stepped\": false, \"type\": \"scatter\", \"data\": [41.6620740735418, 41.09587995753217, 41.41112158362629]}, {\"categories\": [\"0\", \"1\", \"2\"], \"mode\": \"lines\", \"name\": \"mean_absolute_percentage_error_min\", \"stepped\": true, \"type\": \"scatter\", \"data\": [41.6620740735418, 41.09587995753217, 41.09587995753217]}], \"root_mean_squared_error\": [{\"categories\": [\"0\", \"1\", \"2\"], \"mode\": \"markers\", \"name\": \"root_mean_squared_error\", \"stepped\": false, \"type\": \"scatter\", \"data\": [55.36918739868516, 57.32229196308575, 55.148143378613156]}, {\"categories\": [\"0\", \"1\", \"2\"], \"mode\": \"lines\", \"name\": \"root_mean_squared_error_min\", \"stepped\": true, \"type\": \"scatter\", \"data\": [55.36918739868516, 55.36918739868516, 55.148143378613156]}], \"normalized_median_absolute_error\": [{\"categories\": [\"0\", \"1\", \"2\"], \"mode\": \"markers\", \"name\": \"normalized_median_absolute_error\", \"stepped\": false, \"type\": \"scatter\", \"data\": [0.13402782048231374, 0.12664726391642284, 0.12482242387985269]}, {\"categories\": [\"0\", \"1\", \"2\"], \"mode\": \"lines\", \"name\": \"normalized_median_absolute_error_min\", \"stepped\": true, \"type\": \"scatter\", \"data\": [0.13402782048231374, 0.12664726391642284, 0.12482242387985269]}], \"normalized_root_mean_squared_log_error\": [{\"categories\": [\"0\", \"1\", \"2\"], \"mode\": \"markers\", \"name\": \"normalized_root_mean_squared_log_error\", \"stepped\": false, \"type\": \"scatter\", \"data\": [0.1658944420316591, 0.1686823914742396, 0.1670078207960532]}, {\"categories\": [\"0\", \"1\", \"2\"], \"mode\": \"lines\", \"name\": \"normalized_root_mean_squared_log_error_min\", \"stepped\": true, \"type\": \"scatter\", \"data\": [0.1658944420316591, 0.1658944420316591, 0.1658944420316591]}], \"r2_score\": [{\"categories\": [\"0\", \"1\", \"2\"], \"mode\": \"markers\", \"name\": \"r2_score\", \"stepped\": false, \"type\": \"scatter\", \"data\": [0.48569185706015156, 0.4481410154623706, 0.48975397191307285]}, {\"categories\": [\"0\", \"1\", \"2\"], \"mode\": \"lines\", \"name\": \"r2_score_max\", \"stepped\": true, \"type\": \"scatter\", \"data\": [0.48569185706015156, 0.48569185706015156, 0.48975397191307285]}], \"spearman_correlation\": [{\"categories\": [\"0\", \"1\", \"2\"], \"mode\": \"markers\", \"name\": \"spearman_correlation\", \"stepped\": false, \"type\": \"scatter\", \"data\": [0.6986650354956977, 0.6688687319146129, 0.695855166705272]}, {\"categories\": [\"0\", \"1\", \"2\"], \"mode\": \"lines\", \"name\": \"spearman_correlation_max\", \"stepped\": true, \"type\": \"scatter\", \"data\": [0.6986650354956977, 0.6986650354956977, 0.6986650354956977]}], \"root_mean_squared_log_error\": [{\"categories\": [\"0\", \"1\", \"2\"], \"mode\": \"markers\", \"name\": \"root_mean_squared_log_error\", \"stepped\": false, \"type\": \"scatter\", \"data\": [0.42987036337088735, 0.43709457670356217, 0.4327553818691453]}, {\"categories\": [\"0\", \"1\", \"2\"], \"mode\": \"lines\", \"name\": \"root_mean_squared_log_error_min\", \"stepped\": true, \"type\": \"scatter\", \"data\": [0.42987036337088735, 0.42987036337088735, 0.42987036337088735]}], \"normalized_mean_absolute_error\": [{\"categories\": [\"0\", \"1\", \"2\"], \"mode\": \"markers\", \"name\": \"normalized_mean_absolute_error\", \"stepped\": false, \"type\": \"scatter\", \"data\": [0.1429906848605607, 0.1441264791992188, 0.14161537793281584]}, {\"categories\": [\"0\", \"1\", \"2\"], \"mode\": \"lines\", \"name\": \"normalized_mean_absolute_error_min\", \"stepped\": true, \"type\": \"scatter\", \"data\": [0.1429906848605607, 0.1429906848605607, 0.14161537793281584]}], \"normalized_root_mean_squared_error\": [{\"categories\": [\"0\", \"1\", \"2\"], \"mode\": \"markers\", \"name\": \"normalized_root_mean_squared_error\", \"stepped\": false, \"type\": \"scatter\", \"data\": [0.1724896803697357, 0.1785741182650647, 0.1718010697153058]}, {\"categories\": [\"0\", \"1\", \"2\"], \"mode\": \"lines\", \"name\": \"normalized_root_mean_squared_error_min\", \"stepped\": true, \"type\": \"scatter\", \"data\": [0.1724896803697357, 0.1724896803697357, 0.1718010697153058]}], \"explained_variance\": [{\"categories\": [\"0\", \"1\", \"2\"], \"mode\": \"markers\", \"name\": \"explained_variance\", \"stepped\": false, \"type\": \"scatter\", \"data\": [0.5085144500054211, 0.47328068860919326, 0.5123668181329616]}, {\"categories\": [\"0\", \"1\", \"2\"], \"mode\": \"lines\", \"name\": \"explained_variance_max\", \"stepped\": true, \"type\": \"scatter\", \"data\": [0.5085144500054211, 0.5085144500054211, 0.5123668181329616]}]}, \"metricName\": null, \"primaryMetricName\": \"spearman_correlation\", \"showLegend\": false}, \"run_metrics\": [], \"run_logs\": \"\\nRun is completed.\", \"graph\": {}, \"widget_settings\": {\"childWidgetDisplay\": \"popup\", \"send_telemetry\": false, \"log_level\": \"INFO\", \"sdk_version\": \"1.0.72\"}, \"loading\": false}"
          },
          "metadata": {}
        }
      ]
    },
    {
      "metadata": {},
      "cell_type": "markdown",
      "source": "The best model can also be retrieved by running the following code:"
    },
    {
      "metadata": {
        "trusted": true
      },
      "cell_type": "code",
      "source": "best_run, fitted_model = local_run.get_output()",
      "execution_count": 7,
      "outputs": []
    },
    {
      "metadata": {},
      "cell_type": "markdown",
      "source": "After confirming the best model, you can run it on the test dataset. The best model is used in the following code and visualization for the training set and the test set:"
    },
    {
      "metadata": {
        "trusted": true
      },
      "cell_type": "code",
      "source": "y_pred_train = fitted_model.predict(X_train)\ny_residual_train = y_train - y_pred_train\ny_pred_test = fitted_model.predict(X_test)\ny_residual_test = y_test - y_pred_test\nprint(y_residual_test)",
      "execution_count": 9,
      "outputs": [
        {
          "output_type": "stream",
          "text": "[  97.19671669  -15.15172845  -53.93898676  -49.81284229    5.44726459\n   29.86618584   84.21555425   18.17496002    1.67195375 -110.10127532\n   91.91938217   -1.46857573   20.41700789  -23.73187974   11.36573458\n  -54.36394968  -49.50806459   -7.07266142    5.33702158  -62.53630844\n  -19.44735156  132.22774529  -54.70782811    3.72244505 -134.92211343\n  -56.49646138  -10.6338372     2.22312656   29.38874177   22.14826287\n   50.54645787   92.43167524   52.53500509   59.47562794   60.56860968\n  105.82221821    5.64666233  103.98551623  -58.52781448  -13.1783865\n  -17.66515124   16.49264761  -47.53251754   47.53641858   52.86557638\n    4.88610822   86.33228744   46.71475932  -37.65412123   38.75295161\n   23.8639521    48.4751136   -51.77917254  -48.28487058  -32.60494388\n  -14.06774424  -71.89026679  -31.30712515   87.09829476   58.33390109\n -164.64332027  -23.09591566  -28.64990565   -4.45302602 -107.58111499\n  164.43429408  -45.80824169   95.48015989  -68.44223975  -47.24245174\n   12.10246604   23.74332863  -34.41947781  -39.05353946  -68.77483134\n  -23.16195389  -30.83299708  -31.64219326  -51.17282659   66.11059857\n   16.48210001  -68.08734092  -36.4266101    62.74196753   -5.67719576\n  -48.2974359   -29.06128541  -65.2002685   -54.03515191]\n",
          "name": "stdout"
        }
      ]
    }
  ],
  "metadata": {
    "kernelspec": {
      "name": "python36",
      "display_name": "Python 3.6",
      "language": "python"
    },
    "language_info": {
      "mimetype": "text/x-python",
      "nbconvert_exporter": "python",
      "name": "python",
      "pygments_lexer": "ipython3",
      "version": "3.6.6",
      "file_extension": ".py",
      "codemirror_mode": {
        "version": 3,
        "name": "ipython"
      }
    }
  },
  "nbformat": 4,
  "nbformat_minor": 1
}