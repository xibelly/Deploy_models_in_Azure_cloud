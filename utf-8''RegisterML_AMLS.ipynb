{
  "cells": [
    {
      "metadata": {},
      "cell_type": "markdown",
      "source": "# Using Machine Leraning Services involves the following steps."
    },
    {
      "metadata": {},
      "cell_type": "markdown",
      "source": "#Register the model in a Machine Learning Model Registry hosted in Azure Machine Learning Service workspace\n\n#Register an image that pairs a model with an inference script and dependencies required to create a docker container providing the compute environment to run the pipeline.\n\n#Monitor and collect data about model training, performance, and deployments.\n"
    },
    {
      "metadata": {},
      "cell_type": "markdown",
      "source": "# Create a deployment workspace in the Azure portal"
    },
    {
      "metadata": {},
      "cell_type": "markdown",
      "source": "1) Sign into the Azure portal  with your Azure subscription.\n2) Select + Create a resource in the left sidebar of the Azure portal.\n3) Type machine learning service in the search bar.\n4) Select the Machine Learning service workspace in the search results.\n5) Select the Create button to open the ML service workspace creation panel.\n6) Fill in the details required using the following suggestions:\n#*Workspace name - enter a workspace name such as learn-workspace.\n#*Subscription - select an Azure subscription to own this resource.\n#*Resource group - create a new resource group named mslearn-amls. We'll delete this resource group when we're done.\n#*Location - Select a location where the workspace will be created. You will typically want to select a location near where the workspace will be used."
    },
    {
      "metadata": {},
      "cell_type": "markdown",
      "source": "# Create a deployment workspace using the Azure ML SDK and Python"
    },
    {
      "metadata": {
        "trusted": true
      },
      "cell_type": "code",
      "source": "from azureml.core import Workspace\n\nws = Workspace.create(\n            name='learn-workspace-py',\n            subscription_id='', \n            resource_group='',\n            create_resource_group=False,\n            location=''\n\nprint('Done')\n)",
      "execution_count": null,
      "outputs": []
    },
    {
      "metadata": {},
      "cell_type": "markdown",
      "source": "As with the portal approach, it takes a few minutes to set up the workspace. After the workspace is provisioned, you can view the workspace details, such as the associated Azure Blob Storage account, Docker container registry account, and key vault through the returned ws object - try executing the get_details() function on it."
    },
    {
      "metadata": {
        "trusted": true
      },
      "cell_type": "code",
      "source": "from azureml.core import Workspace,Experiment,Run\n\nws = Workspace.get(name='',\n            subscription_id='', \n            resource_group='')\nprint(ws)",
      "execution_count": 32,
      "outputs": []
    },
    {
      "metadata": {
        "trusted": true
      },
      "cell_type": "code",
      "source": "ws.get_details()",
      "execution_count": 3,
      "outputs": [
        {
          "output_type": "execute_result",
          "execution_count": 3,
          "data": {
            "text/plain": "{'id': '/subscriptions/83b057f2-5b13-476b-97e7-8da4927e2f61/resourceGroups/entrenamiento-idata/providers/Microsoft.MachineLearningServices/workspaces/AMLSWorkspace',\n 'name': 'AMLSWorkspace',\n 'location': 'eastus2',\n 'type': 'Microsoft.MachineLearningServices/workspaces',\n 'sku': 'Basic',\n 'workspaceid': '1bcb4b94-f6a6-473e-9775-05622686f66d',\n 'description': '',\n 'friendlyName': 'AMLSWorkspace',\n 'creationTime': '2019-11-20T21:10:13.3102038+00:00',\n 'containerRegistry': '/subscriptions/83b057f2-5b13-476b-97e7-8da4927e2f61/resourceGroups/entrenamiento-idata/providers/Microsoft.ContainerRegistry/registries/amlsworkspac2bc26995',\n 'keyVault': '/subscriptions/83b057f2-5b13-476b-97e7-8da4927e2f61/resourcegroups/entrenamiento-idata/providers/microsoft.keyvault/vaults/amlsworkkeyvaultd573ec01',\n 'applicationInsights': '/subscriptions/83b057f2-5b13-476b-97e7-8da4927e2f61/resourcegroups/entrenamiento-idata/providers/microsoft.insights/components/amlsworkinsights45dc8cb6',\n 'identityPrincipalId': '2acc6dab-4503-4676-aad9-51ee58b935c5',\n 'identityTenantId': '371ab23d-884c-40bd-b4d6-36bc3470ef62',\n 'identityType': 'SystemAssigned',\n 'storageAccount': '/subscriptions/83b057f2-5b13-476b-97e7-8da4927e2f61/resourcegroups/entrenamiento-idata/providers/microsoft.storage/storageaccounts/amlsworkstorageec69a95ed'}"
          },
          "metadata": {}
        }
      ]
    },
    {
      "metadata": {},
      "cell_type": "markdown",
      "source": "# Register an Azure ML model with Python"
    },
    {
      "metadata": {},
      "cell_type": "markdown",
      "source": "After creating a workspace using the Azure portal or Python, you can register your model in the workspace for further use. Like a container registry, the model registry is a single place to keep track of all the models in your Azure Machine Learning service, to make sure that the models are stored in a structured format.\n\nIn the training script we used to train the model, the last step is to save the model as a pickle file. It is this file you will register for deployment.\n\nTo run the code below, you need to train model and save it to a pickle file as explained in the module \"Train a local model with Azure Machine Learning service\"."
    },
    {
      "metadata": {
        "trusted": true
      },
      "cell_type": "code",
      "source": "from azureml.core.model import Model\n# Tip: When model_path is set to a directory, you can use the child_paths parameter to include\n#      only some of the files from the directory\nmodel = Model.register(model_path = \"outputs/sklearn_mnist_model.pkl\",\n                       model_name = \"sklearn_mnist_model.pkl\",\n                       description = \"identify numbers\",\n                       workspace = ws)",
      "execution_count": 18,
      "outputs": [
        {
          "output_type": "stream",
          "text": "Registering model sklearn_mnist_model.pkl\n",
          "name": "stdout"
        }
      ]
    },
    {
      "metadata": {
        "trusted": true
      },
      "cell_type": "code",
      "source": "print(model.name, model.id, model.version, sep='\\t')",
      "execution_count": 20,
      "outputs": [
        {
          "output_type": "stream",
          "text": "sklearn_mnist_model.pkl\tsklearn_mnist_model.pkl:1\t1\n",
          "name": "stdout"
        }
      ]
    },
    {
      "metadata": {},
      "cell_type": "markdown",
      "source": "# Create a scoring script"
    },
    {
      "metadata": {},
      "cell_type": "markdown",
      "source": "Container images allow users to deploy models reliably since the machine learning model always depends on some other dependencies such as PyTorch. Using containers to deploy machine learning models can avoid dependency issues.\n\nA container image has the following items packaged, which you need to prepare:\n\n#The model itself\n#The inference engine, such as PyTorch\n#The scoring file (score.py) or other application consuming the model\n#Any dependencies needed\n\nThe first step is to create the score.py file that consumes the model, like below. You only need to define two functions: init, which loads the model and run, which does the inference:"
    },
    {
      "metadata": {},
      "cell_type": "markdown",
      "source": " model scoring script used to define the call parameters needed by the REST API"
    },
    {
      "metadata": {
        "trusted": true
      },
      "cell_type": "code",
      "source": "%%writefile score.py\nfrom sklearn.externals import joblib\nfrom sklearn.linear_model import Ridge\nfrom azureml.core.model import Model\nimport numpy\nimport json\n\ndef init():\n    global model\n    model_path = Model.get_model_path('sklearn_mnist_model.pkl')\n    # deserialize the model file back into a sklearn model\n    model = joblib.load(model_path)\n\n# note you can pass in multiple rows for scoring\ndef run(raw_data):\n    try:\n        data = json.loads(raw_data)['data']\n        data = numpy.array(data)\n        result = model.predict(data)\n        # you can return any datatype if it is JSON-serializable\n        return result.tolist()\n    except Exception as e:\n        error = str(e)\n        return error",
      "execution_count": 21,
      "outputs": [
        {
          "output_type": "stream",
          "text": "Writing score.py\n",
          "name": "stdout"
        }
      ]
    },
    {
      "metadata": {},
      "cell_type": "markdown",
      "source": "The second step is to make sure the dependencies are included in the image. Azure Machine Learning does that by creating a conda dependency file:"
    },
    {
      "metadata": {},
      "cell_type": "markdown",
      "source": "# Create the environment YAML file"
    },
    {
      "metadata": {},
      "cell_type": "markdown",
      "source": "YAML: is a human-readable data-serialization language. It is commonly used for configuration files and in applications where data is being stored or transmitted."
    },
    {
      "metadata": {
        "trusted": true
      },
      "cell_type": "code",
      "source": "from azureml.core.conda_dependencies import CondaDependencies \n\nmyenv = CondaDependencies.create(conda_packages=['numpy','scikit-learn'])\n\nwith open(\"myenv.yml\",\"w\") as f:\n    f.write(myenv.serialize_to_string())\n\nprint('Done')",
      "execution_count": 22,
      "outputs": [
        {
          "output_type": "stream",
          "text": "Done\n",
          "name": "stdout"
        }
      ]
    },
    {
      "metadata": {},
      "cell_type": "markdown",
      "source": "# Create a container image for a trained model"
    },
    {
      "metadata": {},
      "cell_type": "markdown",
      "source": "You registered the model already if you did the prior unit 'Register an Azure ML model with Python'. But just so you have the model object variable handy, register it again with the code below."
    },
    {
      "metadata": {
        "trusted": true
      },
      "cell_type": "code",
      "source": "# register model\n#model = run.register_model(model_name='sklearn_mnist_model.pkl',\n#                           model_path='outputs/sklearn_mnist_model.pkl')\n\n#print(model.name, model.id, model.version, sep='\\t')",
      "execution_count": null,
      "outputs": []
    },
    {
      "metadata": {},
      "cell_type": "markdown",
      "source": "Now you will prepare the container image. The following Python code uses the Azure ML SDK to create the image.\n\n"
    },
    {
      "metadata": {},
      "cell_type": "markdown",
      "source": "container image that defines the requirements of the deployment container"
    },
    {
      "metadata": {
        "trusted": true
      },
      "cell_type": "code",
      "source": "from azureml.core.image import Image, ContainerImage\n\nimage_config = ContainerImage.image_configuration(runtime= \"python\",\n                                 execution_script=\"score.py\",\n                                 conda_file=\"myenv.yml\",\n                                 tags = {'data': \"MNIST\", 'type': \"sklearn\"},\n                                 description = \"Image for sklearn model\")\n\nimage = Image.create(name = \"myimage1\",\n                     # this is the model object \n                     models = [model],\n                     image_config = image_config, \n                     workspace = ws)\n\nimage.wait_for_creation(show_output = True)\n\nprint('Done')",
      "execution_count": 23,
      "outputs": [
        {
          "output_type": "stream",
          "text": "Creating image\nRunning.....................................\nSucceeded\nImage creation operation finished for image myimage1:1, operation \"Succeeded\"\nDone\n",
          "name": "stdout"
        }
      ]
    },
    {
      "metadata": {},
      "cell_type": "markdown",
      "source": "After the code is executed, you can view the images in the Azure Machine Learning service portal:\n\n"
    },
    {
      "metadata": {},
      "cell_type": "markdown",
      "source": "# Choose where to Deploy your model\n"
    },
    {
      "metadata": {},
      "cell_type": "markdown",
      "source": "Once a model has been trained and you are ready to make it available to your applications and services, you need to deploy it. Deploying a model allows it to receive data from a client, process the data with the trained model, and return results back to the client.\n\nThe Azure Machine Learning Service provides several places you can deploy your trained model using the Azure Machine Learning SDK, including: \nAzure Container Instances (ACI), Azure Kubernetes Service (AKS), Azure Machine Learning Compute, Azure IoT Edge, Field-programmable gate array (FPGA)"
    },
    {
      "metadata": {},
      "cell_type": "markdown",
      "source": "# Deploy the model as a web service"
    },
    {
      "metadata": {},
      "cell_type": "markdown",
      "source": "Now that we have an image that contains our trained model, we can use Azure Container Instances to deploy the trained model as a web service. There are two steps involved:"
    },
    {
      "metadata": {},
      "cell_type": "markdown",
      "source": "1) Define the deployment configuration. The deployment configuration defines the compute to be created to serve the model to scoring applications. For example, the following code defines a container that uses 1 CPU and 1 GB of memory:"
    },
    {
      "metadata": {
        "trusted": true
      },
      "cell_type": "code",
      "source": "from azureml.core.webservice import AciWebservice\n\naciconfig = AciWebservice.deploy_configuration(cpu_cores = 1, \n                                          memory_gb = 1, \n                                          tags = {\"data\": \"mnist\", \"type\": \"sklearn\"}, \n                                          description = 'Handwriting recognition')\n\nprint('Done')",
      "execution_count": 24,
      "outputs": [
        {
          "output_type": "stream",
          "text": "Done\n",
          "name": "stdout"
        }
      ]
    },
    {
      "metadata": {},
      "cell_type": "markdown",
      "source": "2) In a prior unit, you created an image and stored it in an object named image. To deploy the image, you can use code similar to the code below:"
    },
    {
      "metadata": {
        "trusted": true
      },
      "cell_type": "code",
      "source": "from azureml.core.webservice import Webservice\n\nservice_name = 'aci-mnist-1'\n\nservice = Webservice.deploy_from_image(deployment_config = aciconfig,\n                                            image = image,\n                                            name = service_name,\n                                            workspace = ws)\n\nservice.wait_for_deployment(show_output = True)\n\nprint('Done')",
      "execution_count": 25,
      "outputs": [
        {
          "output_type": "stream",
          "text": "Running.............\nSucceeded\nACI service creation operation finished, operation \"Succeeded\"\nDone\n",
          "name": "stdout"
        }
      ]
    },
    {
      "metadata": {},
      "cell_type": "markdown",
      "source": "It takes around 3 to 4 minutes for the web service to deploy. Once it's deployed, we can call it from a client application.\n\n"
    },
    {
      "metadata": {},
      "cell_type": "markdown",
      "source": "# Score data with the deployed model"
    },
    {
      "metadata": {},
      "cell_type": "markdown",
      "source": "Since the model is deployed as a web service that exposes a REST API, it can be tested with many tools. Azure Machine Learning SDK has a built-in testing tool that can work with the deployed web service, like below:"
    },
    {
      "metadata": {
        "trusted": true
      },
      "cell_type": "code",
      "source": "import os \n\nimport gzip\nimport struct\nimport numpy as np\n\n\n# load compressed MNIST gz files and return numpy arrays\ndef load_data(filename, label=False):\n    with gzip.open(filename) as gz:\n        struct.unpack('I', gz.read(4))\n        n_items = struct.unpack('>I', gz.read(4))\n        if not label:\n            n_rows = struct.unpack('>I', gz.read(4))[0]\n            n_cols = struct.unpack('>I', gz.read(4))[0]\n            res = np.frombuffer(gz.read(n_items[0] * n_rows * n_cols), dtype=np.uint8)\n            res = res.reshape(n_items[0], n_rows * n_cols)\n        else:\n            res = np.frombuffer(gz.read(n_items[0]), dtype=np.uint8)\n            res = res.reshape(n_items[0], 1)\n    return res\n\ndata_folder = os.path.join(os.getcwd(), 'data')\n\n# note we also shrink the intensity values (X) from 0-255 to 0-1. This helps the neural network converge faster\nX_test = load_data(os.path.join(data_folder, 'test-images.gz'), False) / 255.0\ny_test = load_data(os.path.join(\n    data_folder, 'test-labels.gz'), True).reshape(-1)\n\nprint('Done')",
      "execution_count": 26,
      "outputs": [
        {
          "output_type": "stream",
          "text": "Done\n",
          "name": "stdout"
        }
      ]
    },
    {
      "metadata": {},
      "cell_type": "markdown",
      "source": "Now score some data with the code below."
    },
    {
      "metadata": {
        "trusted": true
      },
      "cell_type": "code",
      "source": "import json\nimport numpy as np\nimport matplotlib.pyplot as plt\n%matplotlib inline\n\n# find 30 random samples from test set\nn = 30\nsample_indices = np.random.permutation(X_test.shape[0])[0:n]\n\ntest_samples = json.dumps({\"data\": X_test[sample_indices].tolist()})\ntest_samples = bytes(test_samples, encoding='utf8')\n\n# predict using the deployed model\nresult = service.run(input_data=test_samples)\n\n# compare actual value vs. the predicted values:\ni = 0\nplt.figure(figsize=(20, 1))\n#plt.figure(figsize=(9, 3))\n\nfor s in sample_indices:\n    plt.subplot(1, n, i + 1)\n    plt.axhline('')\n    plt.axvline('')\n\n    # use different color for misclassified sample\n    font_color = 'red' if y_test[s] != result[i] else 'black'\n    clr_map = plt.cm.gray if y_test[s] != result[i] else plt.cm.Greys\n    plt.text(x=10, y=-10, s=result[i], fontsize=18, color=font_color)\n    plt.imshow(X_test[s].reshape(28, 28), cmap=clr_map)\n\n    i = i + 1\n\nplt.show()",
      "execution_count": 27,
      "outputs": [
        {
          "output_type": "stream",
          "text": "/home/nbuser/anaconda3_501/lib/python3.6/site-packages/matplotlib/font_manager.py:229: UserWarning: Matplotlib is building the font cache using fc-list. This may take a moment.\n  'Matplotlib is building the font cache using fc-list. '\n",
          "name": "stderr"
        },
        {
          "output_type": "display_data",
          "data": {
            "image/png": "[encoded data removed]",
            "text/plain": "<Figure size 1440x72 with 30 Axes>"
          },
          "metadata": {
            "needs_background": "light"
          }
        }
      ]
    },
    {
      "metadata": {},
      "cell_type": "markdown",
      "source": "The key part of the code is the service.run call, which sends a JSON formatted document to the deployed web service and the result is displayed.\n\nYou can also call the model using a REST API. The code below will call the model to identify a number randomly selected from an array."
    },
    {
      "metadata": {
        "trusted": true
      },
      "cell_type": "code",
      "source": "import requests\n\n# send a random row from the test set to score\nrandom_index = np.random.randint(0, len(X_test)-1)\ninput_data = \"{\\\"data\\\": [\" + str(list(X_test[random_index])) + \"]}\"\n\nheaders = {'Content-Type': 'application/json'}\n\n# for AKS deployment you'd need to include the service key in the header as well\n# api_key = service.get_key()\n# headers = {'Content-Type':'application/json',  'Authorization':('Bearer '+ api_key)} \n\nresp = requests.post(service.scoring_uri, input_data, headers=headers)\n\nprint(\"POST to url\", service.scoring_uri)\n#print(\"input data:\", input_data)\nprint(\"label:\", y_test[random_index])\nprint(\"prediction:\", resp.text)",
      "execution_count": 31,
      "outputs": [
        {
          "output_type": "stream",
          "text": "POST to url http://5b784eb3-c1cb-417a-b7dc-587f93f54780.eastus2.azurecontainer.io/score\nlabel: 9\nprediction: [9]\n",
          "name": "stdout"
        }
      ]
    },
    {
      "metadata": {},
      "cell_type": "markdown",
      "source": "Cleanup\nTo avoid additional costs in your Azure account, delete the mslearn-amls resource group. To remove all the resources we created in this module, follow these steps.\n\nSign into the Azure portal .\n\nFind the mslearn-amls resource group by selecting Resource groups in the Azure sidebar.\n\nSelect the resource group, and right-click on the row to open the context menu. You also can use the \"...\" button on the far-right side of the row.\n\nSelect Delete resource group.\n\nEnter the name of the resource group, and select Delete. Azure removes all the resources for you."
    },
    {
      "metadata": {},
      "cell_type": "markdown",
      "source": "# Connect to your workspace"
    },
    {
      "metadata": {
        "trusted": true
      },
      "cell_type": "code",
      "source": "from azureml.core import Workspace, Experiment, Run\n\nws = Workspace.get(name='{name}',\n                   subscription_id='{azure-subscription-id}',\n                   resource_group='{resource-group-name}'\n                  )\n\nprint('Done')",
      "execution_count": null,
      "outputs": []
    }
  ],
  "metadata": {
    "kernelspec": {
      "name": "python36",
      "display_name": "Python 3.6",
      "language": "python"
    },
    "language_info": {
      "mimetype": "text/x-python",
      "nbconvert_exporter": "python",
      "name": "python",
      "pygments_lexer": "ipython3",
      "version": "3.6.6",
      "file_extension": ".py",
      "codemirror_mode": {
        "version": 3,
        "name": "ipython"
      }
    }
  },
  "nbformat": 4,
  "nbformat_minor": 1
}